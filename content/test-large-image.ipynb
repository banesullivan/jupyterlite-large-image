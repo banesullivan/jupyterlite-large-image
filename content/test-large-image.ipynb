{
  "cells": [
    {
      "cell_type": "code",
      "execution_count": null,
      "metadata": {
        "trusted": true
      },
      "outputs": [],
      "source": [
        "import micropip\n",
        "await micropip.install(\n",
        "    'large-image==1.20.5'\n",
        ")\n",
        "await micropip.install(\n",
        "    'large-image-source-deepzoom==1.20.5'\n",
        ")\n",
        "# await micropip.install(\n",
        "#     'large-image-source-dicom==1.20.5'\n",
        "# )\n",
        "await micropip.install(\n",
        "    'large-image-source-openjpeg==1.20.5'\n",
        ")\n",
        "await micropip.install(\n",
        "    'large-image-source-pil==1.20.5'\n",
        ")"
      ]
    },
    {
      "cell_type": "code",
      "execution_count": null,
      "metadata": {
        "trusted": true
      },
      "outputs": [],
      "source": [
        "import large_image\n",
        "\n",
        "# Must load tile sources b/c entry points are not used\n",
        "large_image.tilesource.loadTileSources()\n",
        "large_image.tilesource.AvailableTileSources"
      ]
    },
    {
      "cell_type": "code",
      "execution_count": null,
      "metadata": {
        "trusted": true
      },
      "outputs": [],
      "source": [
        "path = 'data/matplotlib.png'"
      ]
    },
    {
      "cell_type": "code",
      "execution_count": null,
      "metadata": {
        "trusted": true
      },
      "outputs": [],
      "source": [
        "source = large_image.open(path)\n",
        "source"
      ]
    },
    {
      "cell_type": "code",
      "execution_count": null,
      "metadata": {
        "trusted": true
      },
      "outputs": [],
      "source": [
        "source.getTile(0, 0, 0)"
      ]
    },
    {
      "cell_type": "code",
      "execution_count": null,
      "metadata": {},
      "outputs": [],
      "source": []
    }
  ],
  "metadata": {
    "kernelspec": {
      "display_name": "Python (Pyodide)",
      "language": "python",
      "name": "python"
    },
    "language_info": {
      "codemirror_mode": {
        "name": "python",
        "version": 3
      },
      "file_extension": ".py",
      "mimetype": "text/x-python",
      "name": "python",
      "nbconvert_exporter": "python",
      "pygments_lexer": "ipython3",
      "version": "3.8"
    }
  },
  "nbformat": 4,
  "nbformat_minor": 4
}
